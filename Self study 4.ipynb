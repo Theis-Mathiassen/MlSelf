{
 "cells": [
  {
   "cell_type": "markdown",
   "metadata": {},
   "source": [
    "# Self study 1\n",
    "\n",
    "In this self study you should work on the code examples below together with the associated questions. The notebook illustrates a basic neural network implementation, where we implement most of the relevant functions from scratch, except for the calculation of the gradients, for which we rely on the functionality provided by <a urel=\"https://pytorch.org\">PyTorch</a>. \n",
    "\n",
    "Since we rely on PyTorch functionality, we will also be using PyTorch's tensor data structure. This data structure operates in much the same way as numpy's ndarrays. You can find a brief introduction to PyTorch's tensors <a href=\"https://pytorch.org/tutorials/beginner/basics/tensorqs_tutorial.html\">here</a>.  \n",
    "\n",
    "\n",
    "\n",
    "The code illustrates the key concepts involved in the learning neural network. Go carefully through the code before starting to answer the questions at the end."
   ]
  },
  {
   "cell_type": "markdown",
   "metadata": {},
   "source": [
    "First we import the modules used in this selfstudy"
   ]
  },
  {
   "cell_type": "code",
   "execution_count": 2,
   "metadata": {},
   "outputs": [],
   "source": [
    "import torch\n",
    "from torchvision import datasets, transforms\n",
    "import matplotlib\n",
    "from matplotlib import pyplot\n",
    "import matplotlib.pyplot as plt\n",
    "import numpy as np\n",
    "from torch.utils.data.sampler import SubsetRandomSampler\n",
    "import torch.nn.functional as F\n",
    "from torchvision import datasets, transforms\n",
    "import torch.nn as nn"
   ]
  },
  {
   "cell_type": "markdown",
   "metadata": {},
   "source": [
    "Through torch load the MNIST data set, which we will use in this self study. The MNIST database consists of grey scale images of handwritten digits. Each image is of size $28\\times 28$; see figure below for an illustration. The data set is divided into a training set consisting of $60000$ images and a test set with $10000$ images; in both\n",
    "data sets the images are labeled with the correct digits. If interested, you can find more information about the MNIST data set at http://yann.lecun.com/exdb/mnist/, including accuracy results for various machine learning methods.\n",
    "\n",
    "![MNIST DATA](MNIST-dataset.png)"
   ]
  },
  {
   "cell_type": "markdown",
   "metadata": {},
   "source": [
    "Using the data loader provided by torch we have an easy way of loading in data in batches (here of size 64). We can also make various other transformation of the data, such as normalization. The details for loading the data are not really that important, but if yiu are curious, you can find a quick introduction <a href=\"https://pytorch.org/tutorials/beginner/basics/quickstart_tutorial.html\">here</a>."
   ]
  },
  {
   "cell_type": "code",
   "execution_count": 3,
   "metadata": {},
   "outputs": [],
   "source": [
    "batch_size = 64\n",
    "train_loader = torch.utils.data.DataLoader(\n",
    "        datasets.MNIST('./data', train=True, download=True,\n",
    "                       transform=transforms.Compose([\n",
    "                           transforms.ToTensor(),\n",
    "                           transforms.Normalize((0.1307,), (0.3081,))\n",
    "                       ])),\n",
    "        batch_size=batch_size, shuffle=True)\n",
    "test_loader = torch.utils.data.DataLoader(\n",
    "        datasets.MNIST('./data', train=False, transform=transforms.Compose([\n",
    "            transforms.ToTensor(),\n",
    "            transforms.Normalize((0.1307,), (0.3081,))\n",
    "        ])),\n",
    "        batch_size=batch_size, shuffle=True)"
   ]
  },
  {
   "cell_type": "markdown",
   "metadata": {},
   "source": [
    "In the cell above, we are loading data in batches, which is subsequently used during optimization. We didn't discuss batch based learning during the last lecture, but please take a look at Slides 24 and 25 to get the gist of the approach. We will cover it in more detail during the next lecture.   \n",
    "\n",
    "Each batch is a list of two elements. The first element encodes the digit and has dimensions [64,1,28,28] (the figures are greyscale with no rbg channel, hence the '1'), and the second element contains the class/label information. "
   ]
  },
  {
   "cell_type": "code",
   "execution_count": 4,
   "metadata": {},
   "outputs": [
    {
     "name": "stdout",
     "output_type": "stream",
     "text": [
      "Batch dimension (digit): torch.Size([64, 1, 28, 28])\n",
      "Batch dimension (target): torch.Size([64])\n",
      "Target: 1 with shape torch.Size([])\n"
     ]
    },
    {
     "data": {
      "image/png": "[encoded data removed]",
      "text/plain": [
       "<Figure size 640x480 with 1 Axes>"
      ]
     },
     "metadata": {},
     "output_type": "display_data"
    }
   ],
   "source": [
    "batch = next(iter(train_loader))\n",
    "print(f\"Batch dimension (digit): {batch[0].shape}\")\n",
    "print(f\"Batch dimension (target): {batch[1].shape}\")\n",
    "digit_batch = batch[0]\n",
    "img = digit_batch[0,:]\n",
    "pyplot.imshow(img.reshape((28, 28)), cmap=\"gray\")\n",
    "print(f\"Target: {batch[1][0]} with shape {batch[1][0].shape}\")"
   ]
  },
  {
   "cell_type": "markdown",
   "metadata": {},
   "source": [
    "With PyTorch we can specify that the tensors require gradients. This will make PyTorch record all operations performed on the tensors, so that we can afterwards calculate the gradients automatically using back propagation. See also the code example from the last lecture."
   ]
  },
  {
   "cell_type": "markdown",
   "metadata": {},
   "source": [
    "For the first part of this self study we will specify a neural network, which will encode a softmax function (see, e.g., Page 180 in <a href=\"https://www.deeplearningbook.org/contents/mlp.html\">The Deep Learning book</a>). For this we need a (randomly initialized) weight matrix and a bias, and for both of them we need their gradients wrt. our error function (yet to be defined) in order to perform learning. Note that to facilitate matrix multiplication we will flatten our image from $28\\times 28$ to $784$. "
   ]
  },
  {
   "cell_type": "code",
   "execution_count": 5,
   "metadata": {},
   "outputs": [],
   "source": [
    "weights = torch.randn(784, 10) / np.sqrt(784)\n",
    "weights.requires_grad_()\n",
    "bias = torch.zeros(10, requires_grad=True)"
   ]
  },
  {
   "cell_type": "markdown",
   "metadata": {},
   "source": [
    "Out model specification"
   ]
  },
  {
   "cell_type": "code",
   "execution_count": 6,
   "metadata": {},
   "outputs": [],
   "source": [
    "def softmax(x):\n",
    "    return x.exp() / x.exp().sum(-1).unsqueeze(-1)\n",
    "\n",
    "def model(xb):\n",
    "    return softmax(xb @ weights + bias)"
   ]
  },
  {
   "cell_type": "markdown",
   "metadata": {},
   "source": [
    "Let's test our model (with our randomly initialized weights)"
   ]
  },
  {
   "cell_type": "code",
   "execution_count": 7,
   "metadata": {},
   "outputs": [
    {
     "name": "stdout",
     "output_type": "stream",
     "text": [
      "Batch shape: torch.Size([64, 784])\n",
      "Prediction on first image tensor([0.0690, 0.0776, 0.0578, 0.2733, 0.0330, 0.0454, 0.0680, 0.1618, 0.1768,\n",
      "        0.0373], grad_fn=<SelectBackward0>)\n",
      "Corresponding classification: 3\n"
     ]
    }
   ],
   "source": [
    "# We flatten the digit representation so that it is consistent with the weight matrix\n",
    "xb = digit_batch.flatten(start_dim=1)\n",
    "print(f\"Batch shape: {xb.shape}\")\n",
    "preds = model(xb)\n",
    "print(f\"Prediction on first image {preds[0]}\")\n",
    "print(f\"Corresponding classification: {preds[0].argmax()}\")"
   ]
  },
  {
   "cell_type": "markdown",
   "metadata": {},
   "source": [
    "Next we define our loss function, in this case the log-loss (or negative log-likelihood):"
   ]
  },
  {
   "cell_type": "code",
   "execution_count": 16,
   "metadata": {},
   "outputs": [
    {
     "name": "stdout",
     "output_type": "stream",
     "text": [
      "tensor(2.6341, grad_fn=<MeanBackward0>)\n"
     ]
    }
   ],
   "source": [
    "def nll(input, target):\n",
    "    return (-input[range(target.shape[0]), target].log()).mean() \n",
    "loss_func = nll\n",
    "\n",
    "# Make a test calculation\n",
    "yb = batch[1]\n",
    "print(loss_func(preds,yb))"
   ]
  },
  {
   "cell_type": "markdown",
   "metadata": {},
   "source": [
    "In the end, we are interested in the accuracy of our model"
   ]
  },
  {
   "cell_type": "code",
   "execution_count": 9,
   "metadata": {},
   "outputs": [],
   "source": [
    "def accuracy(out, yb):\n",
    "    preds = torch.argmax(out, dim=1)\n",
    "    return (preds == yb).float().mean()"
   ]
  },
  {
   "cell_type": "code",
   "execution_count": 10,
   "metadata": {},
   "outputs": [
    {
     "name": "stdout",
     "output_type": "stream",
     "text": [
      "Accuracy of model on batch (with random weights): 0.03125\n"
     ]
    }
   ],
   "source": [
    "print(f\"Accuracy of model on batch (with random weights): {accuracy(preds, yb)}\")"
   ]
  },
  {
   "cell_type": "markdown",
   "metadata": {},
   "source": [
    "Now we are ready to combine it all and perform learning"
   ]
  },
  {
   "cell_type": "code",
   "execution_count": 11,
   "metadata": {},
   "outputs": [
    {
     "name": "stdout",
     "output_type": "stream",
     "text": [
      "Epoch: 0, B-idx: 0, Training loss: 2.5153433915648633\n",
      "Epoch: 0, B-idx: 50, Training loss: 0.8358087456429691\n"
     ]
    },
    {
     "ename": "KeyboardInterrupt",
     "evalue": "",
     "output_type": "error",
     "traceback": [
      "\u001b[31m---------------------------------------------------------------------------\u001b[39m",
      "\u001b[31mKeyboardInterrupt\u001b[39m                         Traceback (most recent call last)",
      "\u001b[36mCell\u001b[39m\u001b[36m \u001b[39m\u001b[32mIn[11]\u001b[39m\u001b[32m, line 7\u001b[39m\n\u001b[32m      4\u001b[39m train_losses = []\n\u001b[32m      5\u001b[39m \u001b[38;5;28;01mfor\u001b[39;00m epoch \u001b[38;5;129;01min\u001b[39;00m \u001b[38;5;28mrange\u001b[39m(epochs):\n\u001b[32m----> \u001b[39m\u001b[32m7\u001b[39m \u001b[43m    \u001b[49m\u001b[38;5;28;43;01mfor\u001b[39;49;00m\u001b[43m \u001b[49m\u001b[43mbatch_idx\u001b[49m\u001b[43m,\u001b[49m\u001b[43m \u001b[49m\u001b[43m(\u001b[49m\u001b[43mxb\u001b[49m\u001b[43m,\u001b[49m\u001b[43m \u001b[49m\u001b[43myb\u001b[49m\u001b[43m)\u001b[49m\u001b[43m \u001b[49m\u001b[38;5;129;43;01min\u001b[39;49;00m\u001b[43m \u001b[49m\u001b[38;5;28;43menumerate\u001b[39;49m\u001b[43m(\u001b[49m\u001b[43mtrain_loader\u001b[49m\u001b[43m)\u001b[49m\u001b[43m:\u001b[49m\n\u001b[32m      9\u001b[39m \u001b[43m        \u001b[49m\u001b[43mxb\u001b[49m\u001b[43m \u001b[49m\u001b[43m=\u001b[49m\u001b[43m \u001b[49m\u001b[43mxb\u001b[49m\u001b[43m.\u001b[49m\u001b[43msqueeze\u001b[49m\u001b[43m(\u001b[49m\u001b[43m)\u001b[49m\u001b[43m.\u001b[49m\u001b[43mflatten\u001b[49m\u001b[43m(\u001b[49m\u001b[43mstart_dim\u001b[49m\u001b[43m=\u001b[49m\u001b[32;43m1\u001b[39;49m\u001b[43m)\u001b[49m\n\u001b[32m     10\u001b[39m \u001b[43m        \u001b[49m\u001b[43mpred\u001b[49m\u001b[43m \u001b[49m\u001b[43m=\u001b[49m\u001b[43m \u001b[49m\u001b[43mmodel\u001b[49m\u001b[43m(\u001b[49m\u001b[43mxb\u001b[49m\u001b[43m)\u001b[49m\n",
      "\u001b[36mFile \u001b[39m\u001b[32m~/Repositories/MlSelf/.venv/lib64/python3.13/site-packages/torch/utils/data/dataloader.py:708\u001b[39m, in \u001b[36m_BaseDataLoaderIter.__next__\u001b[39m\u001b[34m(self)\u001b[39m\n\u001b[32m    705\u001b[39m \u001b[38;5;28;01mif\u001b[39;00m \u001b[38;5;28mself\u001b[39m._sampler_iter \u001b[38;5;129;01mis\u001b[39;00m \u001b[38;5;28;01mNone\u001b[39;00m:\n\u001b[32m    706\u001b[39m     \u001b[38;5;66;03m# TODO(https://github.com/pytorch/pytorch/issues/76750)\u001b[39;00m\n\u001b[32m    707\u001b[39m     \u001b[38;5;28mself\u001b[39m._reset()  \u001b[38;5;66;03m# type: ignore[call-arg]\u001b[39;00m\n\u001b[32m--> \u001b[39m\u001b[32m708\u001b[39m data = \u001b[38;5;28;43mself\u001b[39;49m\u001b[43m.\u001b[49m\u001b[43m_next_data\u001b[49m\u001b[43m(\u001b[49m\u001b[43m)\u001b[49m\n\u001b[32m    709\u001b[39m \u001b[38;5;28mself\u001b[39m._num_yielded += \u001b[32m1\u001b[39m\n\u001b[32m    710\u001b[39m \u001b[38;5;28;01mif\u001b[39;00m (\n\u001b[32m    711\u001b[39m     \u001b[38;5;28mself\u001b[39m._dataset_kind == _DatasetKind.Iterable\n\u001b[32m    712\u001b[39m     \u001b[38;5;129;01mand\u001b[39;00m \u001b[38;5;28mself\u001b[39m._IterableDataset_len_called \u001b[38;5;129;01mis\u001b[39;00m \u001b[38;5;129;01mnot\u001b[39;00m \u001b[38;5;28;01mNone\u001b[39;00m\n\u001b[32m    713\u001b[39m     \u001b[38;5;129;01mand\u001b[39;00m \u001b[38;5;28mself\u001b[39m._num_yielded > \u001b[38;5;28mself\u001b[39m._IterableDataset_len_called\n\u001b[32m    714\u001b[39m ):\n",
      "\u001b[36mFile \u001b[39m\u001b[32m~/Repositories/MlSelf/.venv/lib64/python3.13/site-packages/torch/utils/data/dataloader.py:764\u001b[39m, in \u001b[36m_SingleProcessDataLoaderIter._next_data\u001b[39m\u001b[34m(self)\u001b[39m\n\u001b[32m    762\u001b[39m \u001b[38;5;28;01mdef\u001b[39;00m\u001b[38;5;250m \u001b[39m\u001b[34m_next_data\u001b[39m(\u001b[38;5;28mself\u001b[39m):\n\u001b[32m    763\u001b[39m     index = \u001b[38;5;28mself\u001b[39m._next_index()  \u001b[38;5;66;03m# may raise StopIteration\u001b[39;00m\n\u001b[32m--> \u001b[39m\u001b[32m764\u001b[39m     data = \u001b[38;5;28;43mself\u001b[39;49m\u001b[43m.\u001b[49m\u001b[43m_dataset_fetcher\u001b[49m\u001b[43m.\u001b[49m\u001b[43mfetch\u001b[49m\u001b[43m(\u001b[49m\u001b[43mindex\u001b[49m\u001b[43m)\u001b[49m  \u001b[38;5;66;03m# may raise StopIteration\u001b[39;00m\n\u001b[32m    765\u001b[39m     \u001b[38;5;28;01mif\u001b[39;00m \u001b[38;5;28mself\u001b[39m._pin_memory:\n\u001b[32m    766\u001b[39m         data = _utils.pin_memory.pin_memory(data, \u001b[38;5;28mself\u001b[39m._pin_memory_device)\n",
      "\u001b[36mFile \u001b[39m\u001b[32m~/Repositories/MlSelf/.venv/lib64/python3.13/site-packages/torch/utils/data/_utils/fetch.py:52\u001b[39m, in \u001b[36m_MapDatasetFetcher.fetch\u001b[39m\u001b[34m(self, possibly_batched_index)\u001b[39m\n\u001b[32m     50\u001b[39m         data = \u001b[38;5;28mself\u001b[39m.dataset.__getitems__(possibly_batched_index)\n\u001b[32m     51\u001b[39m     \u001b[38;5;28;01melse\u001b[39;00m:\n\u001b[32m---> \u001b[39m\u001b[32m52\u001b[39m         data = [\u001b[38;5;28;43mself\u001b[39;49m\u001b[43m.\u001b[49m\u001b[43mdataset\u001b[49m\u001b[43m[\u001b[49m\u001b[43midx\u001b[49m\u001b[43m]\u001b[49m \u001b[38;5;28;01mfor\u001b[39;00m idx \u001b[38;5;129;01min\u001b[39;00m possibly_batched_index]\n\u001b[32m     53\u001b[39m \u001b[38;5;28;01melse\u001b[39;00m:\n\u001b[32m     54\u001b[39m     data = \u001b[38;5;28mself\u001b[39m.dataset[possibly_batched_index]\n",
      "\u001b[36mFile \u001b[39m\u001b[32m~/Repositories/MlSelf/.venv/lib64/python3.13/site-packages/torchvision/datasets/mnist.py:146\u001b[39m, in \u001b[36mMNIST.__getitem__\u001b[39m\u001b[34m(self, index)\u001b[39m\n\u001b[32m    143\u001b[39m img = Image.fromarray(img.numpy(), mode=\u001b[33m\"\u001b[39m\u001b[33mL\u001b[39m\u001b[33m\"\u001b[39m)\n\u001b[32m    145\u001b[39m \u001b[38;5;28;01mif\u001b[39;00m \u001b[38;5;28mself\u001b[39m.transform \u001b[38;5;129;01mis\u001b[39;00m \u001b[38;5;129;01mnot\u001b[39;00m \u001b[38;5;28;01mNone\u001b[39;00m:\n\u001b[32m--> \u001b[39m\u001b[32m146\u001b[39m     img = \u001b[38;5;28;43mself\u001b[39;49m\u001b[43m.\u001b[49m\u001b[43mtransform\u001b[49m\u001b[43m(\u001b[49m\u001b[43mimg\u001b[49m\u001b[43m)\u001b[49m\n\u001b[32m    148\u001b[39m \u001b[38;5;28;01mif\u001b[39;00m \u001b[38;5;28mself\u001b[39m.target_transform \u001b[38;5;129;01mis\u001b[39;00m \u001b[38;5;129;01mnot\u001b[39;00m \u001b[38;5;28;01mNone\u001b[39;00m:\n\u001b[32m    149\u001b[39m     target = \u001b[38;5;28mself\u001b[39m.target_transform(target)\n",
      "\u001b[36mFile \u001b[39m\u001b[32m~/Repositories/MlSelf/.venv/lib64/python3.13/site-packages/torchvision/transforms/transforms.py:95\u001b[39m, in \u001b[36mCompose.__call__\u001b[39m\u001b[34m(self, img)\u001b[39m\n\u001b[32m     93\u001b[39m \u001b[38;5;28;01mdef\u001b[39;00m\u001b[38;5;250m \u001b[39m\u001b[34m__call__\u001b[39m(\u001b[38;5;28mself\u001b[39m, img):\n\u001b[32m     94\u001b[39m     \u001b[38;5;28;01mfor\u001b[39;00m t \u001b[38;5;129;01min\u001b[39;00m \u001b[38;5;28mself\u001b[39m.transforms:\n\u001b[32m---> \u001b[39m\u001b[32m95\u001b[39m         img = \u001b[43mt\u001b[49m\u001b[43m(\u001b[49m\u001b[43mimg\u001b[49m\u001b[43m)\u001b[49m\n\u001b[32m     96\u001b[39m     \u001b[38;5;28;01mreturn\u001b[39;00m img\n",
      "\u001b[36mFile \u001b[39m\u001b[32m~/Repositories/MlSelf/.venv/lib64/python3.13/site-packages/torchvision/transforms/transforms.py:137\u001b[39m, in \u001b[36mToTensor.__call__\u001b[39m\u001b[34m(self, pic)\u001b[39m\n\u001b[32m    129\u001b[39m \u001b[38;5;28;01mdef\u001b[39;00m\u001b[38;5;250m \u001b[39m\u001b[34m__call__\u001b[39m(\u001b[38;5;28mself\u001b[39m, pic):\n\u001b[32m    130\u001b[39m \u001b[38;5;250m    \u001b[39m\u001b[33;03m\"\"\"\u001b[39;00m\n\u001b[32m    131\u001b[39m \u001b[33;03m    Args:\u001b[39;00m\n\u001b[32m    132\u001b[39m \u001b[33;03m        pic (PIL Image or numpy.ndarray): Image to be converted to tensor.\u001b[39;00m\n\u001b[32m   (...)\u001b[39m\u001b[32m    135\u001b[39m \u001b[33;03m        Tensor: Converted image.\u001b[39;00m\n\u001b[32m    136\u001b[39m \u001b[33;03m    \"\"\"\u001b[39;00m\n\u001b[32m--> \u001b[39m\u001b[32m137\u001b[39m     \u001b[38;5;28;01mreturn\u001b[39;00m \u001b[43mF\u001b[49m\u001b[43m.\u001b[49m\u001b[43mto_tensor\u001b[49m\u001b[43m(\u001b[49m\u001b[43mpic\u001b[49m\u001b[43m)\u001b[49m\n",
      "\u001b[36mFile \u001b[39m\u001b[32m~/Repositories/MlSelf/.venv/lib64/python3.13/site-packages/torchvision/transforms/functional.py:176\u001b[39m, in \u001b[36mto_tensor\u001b[39m\u001b[34m(pic)\u001b[39m\n\u001b[32m    174\u001b[39m img = img.permute((\u001b[32m2\u001b[39m, \u001b[32m0\u001b[39m, \u001b[32m1\u001b[39m)).contiguous()\n\u001b[32m    175\u001b[39m \u001b[38;5;28;01mif\u001b[39;00m \u001b[38;5;28misinstance\u001b[39m(img, torch.ByteTensor):\n\u001b[32m--> \u001b[39m\u001b[32m176\u001b[39m     \u001b[38;5;28;01mreturn\u001b[39;00m \u001b[43mimg\u001b[49m\u001b[43m.\u001b[49m\u001b[43mto\u001b[49m\u001b[43m(\u001b[49m\u001b[43mdtype\u001b[49m\u001b[43m=\u001b[49m\u001b[43mdefault_float_dtype\u001b[49m\u001b[43m)\u001b[49m.div(\u001b[32m255\u001b[39m)\n\u001b[32m    177\u001b[39m \u001b[38;5;28;01melse\u001b[39;00m:\n\u001b[32m    178\u001b[39m     \u001b[38;5;28;01mreturn\u001b[39;00m img\n",
      "\u001b[31mKeyboardInterrupt\u001b[39m: "
     ]
    }
   ],
   "source": [
    "epochs = 1  # how many epochs to train for\n",
    "lr = 0.01  # learning rate\n",
    "\n",
    "train_losses = []\n",
    "for epoch in range(epochs):\n",
    "\n",
    "    for batch_idx, (xb, yb) in enumerate(train_loader):\n",
    "\n",
    "        xb = xb.squeeze().flatten(start_dim=1)\n",
    "        pred = model(xb)\n",
    "        # We specify the loss\n",
    "        loss = loss_func(pred, yb)\n",
    "        # and perform backpropagation    \n",
    "        loss.backward()\n",
    "        # Lastly we update the weights and bias (torch.no_grad() ensures that no gradient \n",
    "        # calculations are taking place in this part of the code)\n",
    "        with torch.no_grad():\n",
    "            weights -= weights.grad * lr\n",
    "            bias -= bias.grad * lr\n",
    "\n",
    "            # After updating we set the gradients to zero so that we ar eready for the next round\n",
    "            weights.grad.zero_()\n",
    "            bias.grad.zero_()\n",
    "\n",
    "            if batch_idx % 50 == 0:\n",
    "                with torch.no_grad():\n",
    "                    train_loss = np.mean([loss_func(model(txb.squeeze().flatten(start_dim=1)), tyb).item() for txb, tyb in train_loader])\n",
    "                    print(f\"Epoch: {epoch}, B-idx: {batch_idx}, Training loss: {train_loss}\")\n",
    "                    train_losses.append(train_loss)"
   ]
  },
  {
   "cell_type": "markdown",
   "metadata": {},
   "source": [
    "Plot the evolution of the training loss"
   ]
  },
  {
   "cell_type": "code",
   "execution_count": 12,
   "metadata": {
    "scrolled": true
   },
   "outputs": [
    {
     "data": {
      "text/plain": [
       "[<matplotlib.lines.Line2D at 0x7f4ab7b10b90>]"
      ]
     },
     "execution_count": 12,
     "metadata": {},
     "output_type": "execute_result"
    },
    {
     "data": {
      "image/png": "[encoded data removed]",
      "text/plain": [
       "<Figure size 640x480 with 1 Axes>"
      ]
     },
     "metadata": {},
     "output_type": "display_data"
    }
   ],
   "source": [
    "plt.plot(range(len(train_losses)), train_losses)"
   ]
  },
  {
   "cell_type": "markdown",
   "metadata": {},
   "source": [
    "__Exercise:__ \n",
    "1. Experiment with different variations of the gradient descent implementation; try varying the learning rate and the batch size. Assuming that you have a fixed time budget (say 2 minutes for learning), what can we then say about the effect of changing the parameters?\n",
    "2. Implement momentum in the learning algorithm. How does it affect the results?\n",
    "3. Try with different initialization schemes for the parameters (e.g. allowing for larger values). How does it affect the behavior of the algorithm?\n",
    "4. Analyze the behavior of the algorithm on the test set and implement a method for evaluating the accuracy over the entire training/test set.\n",
    "5. If you feel adventorous, you are welcome to try to specify and experiment with other more advanced model architectures (cell 23). "
   ]
  },
  {
   "cell_type": "markdown",
   "metadata": {},
   "source": [
    "# Exercise 1"
   ]
  },
  {
   "cell_type": "markdown",
   "metadata": {},
   "source": [
    "## Load data"
   ]
  },
  {
   "cell_type": "code",
   "execution_count": null,
   "metadata": {},
   "outputs": [],
   "source": [
    "batch_size = 1024\n",
    "train_loader = torch.utils.data.DataLoader(\n",
    "        datasets.MNIST('./data', train=True, download=True,\n",
    "                       transform=transforms.Compose([\n",
    "                           transforms.ToTensor(),\n",
    "                           transforms.Normalize((0.1307,), (0.3081,))\n",
    "                       ])),\n",
    "        batch_size=batch_size, shuffle=True)\n",
    "test_loader = torch.utils.data.DataLoader(\n",
    "        datasets.MNIST('./data', train=False, transform=transforms.Compose([\n",
    "            transforms.ToTensor(),\n",
    "            transforms.Normalize((0.1307,), (0.3081,))\n",
    "        ])),\n",
    "        batch_size=batch_size, shuffle=True)"
   ]
  },
  {
   "cell_type": "markdown",
   "metadata": {},
   "source": [
    "## Train"
   ]
  },
  {
   "cell_type": "code",
   "execution_count": null,
   "metadata": {},
   "outputs": [
    {
     "name": "stdout",
     "output_type": "stream",
     "text": [
      "Epoch: 0, B-idx: 0, Training loss: inf\n",
      "Epoch: 0, B-idx: 50, Training loss: nan\n"
     ]
    }
   ],
   "source": [
    "# Reset model\n",
    "weights = torch.randn(784, 10) / np.sqrt(784)\n",
    "weights.requires_grad_()\n",
    "bias = torch.zeros(10, requires_grad=True)\n",
    "\n",
    "epochs = 1  # how many epochs to train for\n",
    "lr = 1  # learning rate\n",
    "\n",
    "train_losses = []\n",
    "for epoch in range(epochs):\n",
    "\n",
    "    for batch_idx, (xb, yb) in enumerate(train_loader):\n",
    "\n",
    "        xb = xb.squeeze().flatten(start_dim=1)\n",
    "        pred = model(xb)\n",
    "        # We specify the loss\n",
    "        loss = loss_func(pred, yb)\n",
    "        # and perform backpropagation    \n",
    "        loss.backward()\n",
    "        # Lastly we update the weights and bias (torch.no_grad() ensures that no gradient \n",
    "        # calculations are taking place in this part of the code)\n",
    "        with torch.no_grad():\n",
    "            weights -= weights.grad * lr\n",
    "            bias -= bias.grad * lr\n",
    "\n",
    "            # After updating we set the gradients to zero so that we ar eready for the next round\n",
    "            weights.grad.zero_()\n",
    "            bias.grad.zero_()\n",
    "\n",
    "            if batch_idx % 50 == 0:\n",
    "                with torch.no_grad():\n",
    "                    train_loss = np.mean([loss_func(model(txb.squeeze().flatten(start_dim=1)), tyb).item() for txb, tyb in train_loader])\n",
    "                    print(f\"Epoch: {epoch}, B-idx: {batch_idx}, Training loss: {train_loss}\")\n",
    "                    train_losses.append(train_loss)"
   ]
  },
  {
   "cell_type": "markdown",
   "metadata": {},
   "source": [
    "## Evaluation"
   ]
  },
  {
   "cell_type": "code",
   "execution_count": null,
   "metadata": {},
   "outputs": [
    {
     "name": "stdout",
     "output_type": "stream",
     "text": [
      "Prediction on first image tensor([nan, nan, nan, nan, nan, nan, nan, nan, nan, nan],\n",
      "       grad_fn=<SelectBackward0>)\n",
      "Corresponding classification: 0\n",
      "torch.Size([64, 10])\n",
      "torch.Size([64])\n",
      "tensor(nan, grad_fn=<MeanBackward0>)\n",
      "Accuracy of model on batch (with random weights): 0.0625\n"
     ]
    }
   ],
   "source": [
    "xb = digit_batch.flatten(start_dim=1)\n",
    "preds = model(xb)\n",
    "print(f\"Prediction on first image {preds[0]}\")\n",
    "print(f\"Corresponding classification: {preds[0].argmax()}\")\n",
    "\n",
    "# Make a test calculation\n",
    "yb = batch[1]\n",
    "print(preds.size())\n",
    "print(yb.size())\n",
    "print(loss_func(preds,yb))\n",
    "\n",
    "print(f\"Accuracy of model on batch (with random weights): {accuracy(preds, yb)}\")"
   ]
  },
  {
   "cell_type": "markdown",
   "metadata": {},
   "source": [
    "## Notes\n",
    "Learning rate:  0.1,    0.1,    0.1,    0.1,    0.01,   0.01,   0.01,   0.01\n",
    "Batch size:     64,     512,    1024,   1024,   1024,   4096,   4096,   1024\n",
    "Epochs:         1,      1,      1,      10,     1,      1,      18,     10\n",
    "Accuracy:       0.875,  0.953,  0.953,  0.984,  0.921   0.671,  0.9375, 0.953\n",
    "Time:           1:12,   0:13,   0:10,   1:46,   0:10    0:07,   2:07,   1:46\n",
    "\n",
    "Learning rate: 1 NaN loss"
   ]
  },
  {
   "cell_type": "markdown",
   "metadata": {},
   "source": [
    "# Exercise 2"
   ]
  },
  {
   "cell_type": "code",
   "execution_count": 20,
   "metadata": {},
   "outputs": [],
   "source": [
    "class MomentumLoss(nn.Module):\n",
    "    def __init__(self, alpha=0.9, base_loss=nn.MSELoss()):\n",
    "        super(MomentumLoss, self).__init__()\n",
    "        self.alpha = alpha  # Momentum factor\n",
    "        self.base_loss = nll  # The underlying loss function (e.g., MSE, CrossEntropy)\n",
    "        self.momentum = None  # Initialize momentum to None\n",
    "\n",
    "    def forward(self, outputs, targets):\n",
    "        \"\"\"\n",
    "        Computes the momentum-based loss.\n",
    "\n",
    "        Args:\n",
    "            outputs (torch.Tensor): Model outputs.\n",
    "            targets (torch.Tensor): Target values.\n",
    "\n",
    "        Returns:\n",
    "            torch.Tensor: The momentum-adjusted loss.\n",
    "        \"\"\"\n",
    "        current_loss = self.base_loss(outputs, targets)\n",
    "\n",
    "        if self.momentum is None:\n",
    "            self.momentum = current_loss.detach()  # Initialize momentum with the first loss\n",
    "        else:\n",
    "            self.momentum = self.alpha * self.momentum + (1 - self.alpha) * current_loss.detach()\n",
    "\n",
    "        return current_loss + (self.momentum - current_loss.detach()) # or just return current_loss + (self.momentum - current_loss.detach()).detach() if you want to completely stop gradients from flowing through the momentum.\n",
    "\n",
    "# Instantiate the momentum loss\n",
    "momentum_loss = MomentumLoss(alpha=0.8, base_loss=nn.MSELoss())"
   ]
  },
  {
   "cell_type": "code",
   "execution_count": 21,
   "metadata": {},
   "outputs": [],
   "source": [
    "batch_size = 1024\n",
    "train_loader = torch.utils.data.DataLoader(\n",
    "        datasets.MNIST('./data', train=True, download=True,\n",
    "                       transform=transforms.Compose([\n",
    "                           transforms.ToTensor(),\n",
    "                           transforms.Normalize((0.1307,), (0.3081,))\n",
    "                       ])),\n",
    "        batch_size=batch_size, shuffle=True)\n",
    "test_loader = torch.utils.data.DataLoader(\n",
    "        datasets.MNIST('./data', train=False, transform=transforms.Compose([\n",
    "            transforms.ToTensor(),\n",
    "            transforms.Normalize((0.1307,), (0.3081,))\n",
    "        ])),\n",
    "        batch_size=batch_size, shuffle=True)"
   ]
  },
  {
   "cell_type": "code",
   "execution_count": 25,
   "metadata": {},
   "outputs": [
    {
     "name": "stdout",
     "output_type": "stream",
     "text": [
      "Epoch: 0, B-idx: 0, Training loss: 1.9965021044521007\n",
      "Epoch: 0, B-idx: 50, Training loss: 0.39528934430267854\n",
      "Epoch: 1, B-idx: 0, Training loss: 0.3793098653777171\n",
      "Epoch: 1, B-idx: 50, Training loss: 0.3447726929591874\n",
      "Epoch: 2, B-idx: 0, Training loss: 0.34009054606243716\n",
      "Epoch: 2, B-idx: 50, Training loss: 0.3244131798461332\n",
      "Epoch: 3, B-idx: 0, Training loss: 0.32037492121680305\n",
      "Epoch: 3, B-idx: 50, Training loss: 0.31057351524546994\n",
      "Epoch: 4, B-idx: 0, Training loss: 0.309336090997114\n",
      "Epoch: 4, B-idx: 50, Training loss: 0.30166865708464286\n",
      "Epoch: 5, B-idx: 0, Training loss: 0.30294078487460896\n",
      "Epoch: 5, B-idx: 50, Training loss: 0.2993478891202959\n",
      "Epoch: 6, B-idx: 0, Training loss: 0.29560111740888173\n",
      "Epoch: 6, B-idx: 50, Training loss: 0.29158452456280337\n",
      "Epoch: 7, B-idx: 0, Training loss: 0.2919890466382948\n",
      "Epoch: 7, B-idx: 50, Training loss: 0.28871349763062043\n",
      "Epoch: 8, B-idx: 0, Training loss: 0.2884317575874975\n",
      "Epoch: 8, B-idx: 50, Training loss: 0.2849437266083087\n",
      "Epoch: 9, B-idx: 0, Training loss: 0.2840566488645844\n",
      "Epoch: 9, B-idx: 50, Training loss: 0.2830981642512952\n"
     ]
    }
   ],
   "source": [
    "vel = torch.zeros(1, requires_grad=False)\n",
    "# Reset model\n",
    "weights = torch.randn(784, 10) / np.sqrt(784)\n",
    "weights.requires_grad_()\n",
    "bias = torch.zeros(10, requires_grad=True)\n",
    "\n",
    "epochs = 10  # how many epochs to train for\n",
    "lr = 0.1  # learning rate\n",
    "\n",
    "train_losses = []\n",
    "for epoch in range(epochs):\n",
    "\n",
    "    for batch_idx, (xb, yb) in enumerate(train_loader):\n",
    "\n",
    "        xb = xb.squeeze().flatten(start_dim=1)\n",
    "        pred = model(xb)\n",
    "        # We specify the loss\n",
    "        loss = momentum_loss(pred, yb)\n",
    "        vel = loss\n",
    "        # and perform backpropagation    \n",
    "        loss.backward()\n",
    "        # Lastly we update the weights and bias (torch.no_grad() ensures that no gradient \n",
    "        # calculations are taking place in this part of the code)\n",
    "        with torch.no_grad():\n",
    "            weights -= weights.grad * lr\n",
    "            bias -= bias.grad * lr\n",
    "\n",
    "            # After updating we set the gradients to zero so that we ar eready for the next round\n",
    "            weights.grad.zero_()\n",
    "            bias.grad.zero_()\n",
    "\n",
    "            if batch_idx % 50 == 0:\n",
    "                with torch.no_grad():\n",
    "                    train_loss = np.mean([momentum_loss(model(txb.squeeze().flatten(start_dim=1)), tyb).item() for txb, tyb in train_loader])\n",
    "                    print(f\"Epoch: {epoch}, B-idx: {batch_idx}, Training loss: {train_loss}\")\n",
    "                    train_losses.append(train_loss)"
   ]
  },
  {
   "cell_type": "code",
   "execution_count": 26,
   "metadata": {},
   "outputs": [
    {
     "name": "stdout",
     "output_type": "stream",
     "text": [
      "Prediction on first image tensor([6.5158e-09, 9.9396e-01, 2.9139e-04, 4.0160e-03, 9.0853e-06, 1.9325e-04,\n",
      "        5.9088e-05, 3.4189e-04, 6.7643e-04, 4.5525e-04],\n",
      "       grad_fn=<SelectBackward0>)\n",
      "Corresponding classification: 1\n",
      "torch.Size([64, 10])\n",
      "torch.Size([64])\n",
      "tensor(0.3715, grad_fn=<MeanBackward0>)\n",
      "Accuracy of model on batch (with random weights): 0.90625\n"
     ]
    }
   ],
   "source": [
    "xb = digit_batch.flatten(start_dim=1)\n",
    "preds = model(xb)\n",
    "print(f\"Prediction on first image {preds[0]}\")\n",
    "print(f\"Corresponding classification: {preds[0].argmax()}\")\n",
    "\n",
    "# Make a test calculation\n",
    "yb = batch[1]\n",
    "print(preds.size())\n",
    "print(yb.size())\n",
    "print(loss_func(preds,yb))\n",
    "\n",
    "print(f\"Accuracy of model on batch (with random weights): {accuracy(preds, yb)}\")"
   ]
  },
  {
   "cell_type": "markdown",
   "metadata": {},
   "source": [
    "# Exercise 3"
   ]
  },
  {
   "cell_type": "code",
   "execution_count": null,
   "metadata": {},
   "outputs": [],
   "source": []
  },
  {
   "cell_type": "markdown",
   "metadata": {},
   "source": [
    "# Addendum"
   ]
  },
  {
   "cell_type": "markdown",
   "metadata": {},
   "source": [
    "In the exercise and code above, we only took modest advantage of the functionality PyTorch has to offer when it comes to specifying and training neural networks. Below I have therefore tried to illustrated another approach for modeling the MNIST data, but now using a concolutional neural network. You can find a brief but well-written intorduction to convolutional neural networks here:\n",
    "\n",
    "* http://colah.github.io/posts/2014-07-Conv-Nets-Modular/\n",
    "\n",
    "In particular, we will work with the _torch.nn_ module provided by PyTorch. A short introduction to this module and how to define neural networks in PyTorch can be found at\n",
    "\n",
    "* https://pytorch.org/tutorials/beginner/blitz/neural_networks_tutorial.html#sphx-glr-beginner-blitz-neural-networks-tutorial-py\n",
    "\n",
    "* https://pytorch.org/tutorials/beginner/nn_tutorial.html\n",
    "\n",
    "You may either go through these tutorials before move on or consult them when needed as you move forward in the notebook. The former tutorial is part of a general tutorial package to PyTorch, which can be found at (this also includes a nice introduction to tensors in PyTorch)\n",
    "\n",
    "* https://pytorch.org/tutorials/beginner/deep_learning_60min_blitz.html"
   ]
  },
  {
   "cell_type": "markdown",
   "metadata": {},
   "source": [
    "Here we will be a bit more careful with our data. Specifically, we will divide the data into a training, validation, and test, and use the training and validation set for model learning (in the previous self study we did not have a validation set). \n",
    "\n",
    "The data set is created by setting aside a randomly chosen subset of the data, where the splitting point is found using the help function *split_indicies* below."
   ]
  },
  {
   "cell_type": "code",
   "execution_count": null,
   "metadata": {},
   "outputs": [
    {
     "name": "stdout",
     "output_type": "stream",
     "text": [
      "Number of training examples: 48000\n",
      "Number of validation examples: 12000\n"
     ]
    }
   ],
   "source": [
    "def split_indicies(n, val_pct):\n",
    "    # Size of validation set\n",
    "    n_val = int(n*val_pct)\n",
    "    # Random permutation\n",
    "    idxs = np.random.permutation(n)\n",
    "    # Return first indexes for the validation set\n",
    "    return idxs[n_val:], idxs[:n_val]\n",
    "\n",
    "# Load the data\n",
    "train_dataset = datasets.MNIST('../data', train=True, download=True,\n",
    "                   transform=transforms.Compose([\n",
    "                       transforms.ToTensor(),\n",
    "                       transforms.Normalize((0.1307,), (0.3081,))\n",
    "                   ]))\n",
    "\n",
    "# Get the indicies for the training data and test data (the validation set will consists of 20% of the data)\n",
    "train_idxs, val_idxs = split_indicies(len(train_dataset), 0.2)\n",
    "\n",
    "# Define samplers (used by Dataloader) to the two sets of indicies\n",
    "train_sampler = SubsetRandomSampler(train_idxs)\n",
    "val_sampler = SubsetRandomSampler(val_idxs)\n",
    "\n",
    "# Specify data loaders for our training and test set (same functionality as in the previous self study)\n",
    "train_loader = torch.utils.data.DataLoader(train_dataset, batch_size=64, sampler=train_sampler)\n",
    "val_loader = torch.utils.data.DataLoader(train_dataset, batch_size=64, sampler=val_sampler)\n",
    "\n",
    "print(f\"Number of training examples: {len(train_idxs)}\")\n",
    "print(f\"Number of validation examples: {len(val_idxs)}\")"
   ]
  },
  {
   "cell_type": "markdown",
   "metadata": {},
   "source": [
    "The test set is loaden is the usual fashion."
   ]
  },
  {
   "cell_type": "code",
   "execution_count": null,
   "metadata": {},
   "outputs": [],
   "source": [
    "test_loader = torch.utils.data.DataLoader(\n",
    "        datasets.MNIST('../data', train=False, transform=transforms.Compose([\n",
    "            transforms.ToTensor(),\n",
    "            transforms.Normalize((0.1307,), (0.3081,))\n",
    "        ])),\n",
    "        batch_size=64, shuffle=True)"
   ]
  },
  {
   "cell_type": "markdown",
   "metadata": {},
   "source": [
    "## Specifying the model\n",
    "\n",
    "When using the _torch.nn_ for specifying our model we subclass the _nn.Module_. The model thus holds all the parameters of the model (see the _init_ function) as well as a specification of the forward step. We don't have to keep track of the backward pass, as PyTorch handles this for us."
   ]
  },
  {
   "cell_type": "code",
   "execution_count": null,
   "metadata": {},
   "outputs": [],
   "source": [
    "class MNIST_CNN(nn.Module):\n",
    "\n",
    "    def __init__(self):\n",
    "        super().__init__()\n",
    "\n",
    "        # Define a convolution operator with 1 input channel, 15 output channels and a kernel size of 5x5\n",
    "        self.conv1 = nn.Conv2d(1, 15, 5)\n",
    "        # Since we are not doing padding (see Lecture 2, Slide 38) the width of the following layer is reduced; for\n",
    "        # each channel the resulting dimension is 24x24. We feed the resulting representation through a linear \n",
    "        # layer, giving 10 values as output - one for each digit.\n",
    "        self.fc = nn.Linear(15 * 24 * 24, 10)\n",
    "        self.out = None\n",
    "\n",
    "    def forward(self, xb):\n",
    "\n",
    "        # Reshape the input tensor; '-1' indicates that PyTorch will fill-in this \n",
    "        # dimension, whereas the '1' indicates that we only have one color channel. \n",
    "        xb = xb.view(-1, 1, 28, 28)\n",
    "        # Apply convolution and pass the result through a ReLU function\n",
    "        xb = F.relu(self.conv1(xb))\n",
    "        # Reshape the representation\n",
    "        xb = xb.view(-1, 15*24*24)\n",
    "        # Apply the linear layer\n",
    "        xb = self.fc(xb)\n",
    "        # and set the result as the output. Note that we don't take a softmax as this is handled internally in the \n",
    "        # loss function defined below.\n",
    "        self.out = xb\n",
    "\n",
    "        return xb"
   ]
  },
  {
   "cell_type": "markdown",
   "metadata": {},
   "source": [
    "## Learning and evaluating the model\n",
    "\n",
    "For learning the model, we will use the following function which performs one iteration over the training data. The function also takes an _epoch_ argument, but this is only used for reporting on the learning progress"
   ]
  },
  {
   "cell_type": "code",
   "execution_count": null,
   "metadata": {},
   "outputs": [],
   "source": [
    "def train(model, train_loader, loss_fn, epoch):\n",
    "    # Tell PyTorch that this function is part of the training\n",
    "    model.train()\n",
    "\n",
    "    # As optimizer we use stochastic gradient descent as defined by PyTorch. PyTorch also includes a variety \n",
    "    # of other optimizers \n",
    "    learning_rate = 0.01\n",
    "    opt = torch.optim.SGD(model.parameters(), lr=learning_rate)\n",
    "\n",
    "    # Iterate over the training set, one batch at the time, as in the previous self sudy\n",
    "    for batch_idx, (data, target) in enumerate(train_loader):\n",
    "        # Get the prediction\n",
    "        y_pred = model(data)\n",
    "        \n",
    "        # Remember to zero the gradients so that they don't accumulate\n",
    "        opt.zero_grad()\n",
    "\n",
    "        # Calculate the loss and and the gradients  \n",
    "        loss = loss_fn(y_pred, target)\n",
    "        loss.backward()\n",
    "\n",
    "        # Optimize the parameters by taking one 'step' with the optimizer\n",
    "        opt.step()\n",
    "\n",
    "        # For every 10th batch we output a bit of info\n",
    "        if batch_idx % 10 == 0:\n",
    "            print('Train Epoch: {} [{}/{} ({:.0f}%)]\\tLoss: {:.6f}'.format(\n",
    "                epoch, batch_idx * len(data), len(train_loader.sampler),\n",
    "                       100. * batch_idx * len(data) / len(train_loader.sampler), loss.item()))"
   ]
  },
  {
   "cell_type": "markdown",
   "metadata": {},
   "source": [
    "In the end, we also want to validate our model. To do this we define the function below, which takes a data_loader (either the validation or test set) and reports the model's accuracy and loss on that data set."
   ]
  },
  {
   "cell_type": "code",
   "execution_count": null,
   "metadata": {},
   "outputs": [],
   "source": [
    "def test_model(_model, data_loader, loss_fn):\n",
    "    # Tell PyTorch that we are performing evaluation\n",
    "    _model.eval()\n",
    "    \n",
    "    test_loss = 0\n",
    "    correct = 0\n",
    "    with torch.no_grad():\n",
    "        for data, target in data_loader:\n",
    "            output = _model(data)\n",
    "            test_loss += loss_fn(output, target).item()  # sum up batch loss\n",
    "            pred = output.argmax(dim=1, keepdim=True)  # get the index of the max log-probability\n",
    "            correct += pred.eq(target.view_as(pred)).sum().item()\n",
    "\n",
    "    test_loss /= len(data_loader.dataset)\n",
    "\n",
    "    print('\\nTest/validation set: Average loss: {:.4f}, Accuracy: {}/{} ({:.0f}%)\\n'.format(\n",
    "        test_loss, correct, len(data_loader.sampler),\n",
    "        100. * correct / len(data_loader.sampler)))"
   ]
  },
  {
   "cell_type": "markdown",
   "metadata": {},
   "source": [
    "## A couple of helper functions\n",
    "\n",
    "Learning a deep neural network can be time consuming, and it might therefore be nice to be able to save and load previously learned models (see also https://pytorch.org/tutorials/beginner/saving_loading_models.html)."
   ]
  },
  {
   "cell_type": "code",
   "execution_count": null,
   "metadata": {},
   "outputs": [],
   "source": [
    "def save_model(file_name, model):\n",
    "    torch.save(model, file_name)\n",
    "\n",
    "def load_model(file_name):\n",
    "    model = torch.load(file_name)\n",
    "    model.eval()\n",
    "    return model"
   ]
  },
  {
   "cell_type": "markdown",
   "metadata": {},
   "source": [
    "## Wrapping things up\n",
    "\n",
    "Finally, we will do the actual learning of the model."
   ]
  },
  {
   "cell_type": "code",
   "execution_count": null,
   "metadata": {},
   "outputs": [],
   "source": [
    "# The number of passes that will be made over the training set\n",
    "num_epochs = 2\n",
    "# torch.nn defines several useful loss-functions, which we will take advantage of here (see Lecture 1, Slide 11, Log-loss).\n",
    "loss_fn = nn.CrossEntropyLoss()"
   ]
  },
  {
   "cell_type": "code",
   "execution_count": null,
   "metadata": {},
   "outputs": [
    {
     "name": "stdout",
     "output_type": "stream",
     "text": [
      "Model structure:\n",
      "MNIST_CNN(\n",
      "  (conv1): Conv2d(1, 15, kernel_size=(5, 5), stride=(1, 1))\n",
      "  (fc): Linear(in_features=8640, out_features=10, bias=True)\n",
      ")\n"
     ]
    }
   ],
   "source": [
    "# Instantiate the model class\n",
    "model = MNIST_CNN()\n",
    "# and get some information about the structure\n",
    "print('Model structure:')\n",
    "print(model)"
   ]
  },
  {
   "cell_type": "code",
   "execution_count": null,
   "metadata": {},
   "outputs": [],
   "source": []
  },
  {
   "cell_type": "markdown",
   "metadata": {},
   "source": [
    "### Iterate over the data set\n",
    "\n",
    "We iterate over the data set for *num_epochs* number of iterations. At each iteration we also calculate the loss/accuracy on the validation set."
   ]
  },
  {
   "cell_type": "code",
   "execution_count": null,
   "metadata": {},
   "outputs": [
    {
     "name": "stdout",
     "output_type": "stream",
     "text": [
      "Train Epoch: 0 [0/48000 (0%)]\tLoss: 2.252799\n",
      "Train Epoch: 0 [640/48000 (1%)]\tLoss: 1.263240\n",
      "Train Epoch: 0 [1280/48000 (3%)]\tLoss: 1.086223\n",
      "Train Epoch: 0 [1920/48000 (4%)]\tLoss: 0.659278\n",
      "Train Epoch: 0 [2560/48000 (5%)]\tLoss: 0.541931\n",
      "Train Epoch: 0 [3200/48000 (7%)]\tLoss: 0.548204\n",
      "Train Epoch: 0 [3840/48000 (8%)]\tLoss: 0.460584\n",
      "Train Epoch: 0 [4480/48000 (9%)]\tLoss: 0.572006\n",
      "Train Epoch: 0 [5120/48000 (11%)]\tLoss: 0.423151\n",
      "Train Epoch: 0 [5760/48000 (12%)]\tLoss: 0.353434\n",
      "Train Epoch: 0 [6400/48000 (13%)]\tLoss: 0.311678\n",
      "Train Epoch: 0 [7040/48000 (15%)]\tLoss: 0.313688\n",
      "Train Epoch: 0 [7680/48000 (16%)]\tLoss: 0.391460\n",
      "Train Epoch: 0 [8320/48000 (17%)]\tLoss: 0.258515\n",
      "Train Epoch: 0 [8960/48000 (19%)]\tLoss: 0.490335\n",
      "Train Epoch: 0 [9600/48000 (20%)]\tLoss: 0.372392\n",
      "Train Epoch: 0 [10240/48000 (21%)]\tLoss: 0.280571\n",
      "Train Epoch: 0 [10880/48000 (23%)]\tLoss: 0.257049\n",
      "Train Epoch: 0 [11520/48000 (24%)]\tLoss: 0.282138\n",
      "Train Epoch: 0 [12160/48000 (25%)]\tLoss: 0.284211\n",
      "Train Epoch: 0 [12800/48000 (27%)]\tLoss: 0.180528\n",
      "Train Epoch: 0 [13440/48000 (28%)]\tLoss: 0.442509\n",
      "Train Epoch: 0 [14080/48000 (29%)]\tLoss: 0.330890\n",
      "Train Epoch: 0 [14720/48000 (31%)]\tLoss: 0.187640\n",
      "Train Epoch: 0 [15360/48000 (32%)]\tLoss: 0.216812\n",
      "Train Epoch: 0 [16000/48000 (33%)]\tLoss: 0.283717\n",
      "Train Epoch: 0 [16640/48000 (35%)]\tLoss: 0.245245\n",
      "Train Epoch: 0 [17280/48000 (36%)]\tLoss: 0.179639\n",
      "Train Epoch: 0 [17920/48000 (37%)]\tLoss: 0.319789\n",
      "Train Epoch: 0 [18560/48000 (39%)]\tLoss: 0.319702\n",
      "Train Epoch: 0 [19200/48000 (40%)]\tLoss: 0.257249\n",
      "Train Epoch: 0 [19840/48000 (41%)]\tLoss: 0.213628\n",
      "Train Epoch: 0 [20480/48000 (43%)]\tLoss: 0.300923\n",
      "Train Epoch: 0 [21120/48000 (44%)]\tLoss: 0.432989\n",
      "Train Epoch: 0 [21760/48000 (45%)]\tLoss: 0.312938\n",
      "Train Epoch: 0 [22400/48000 (47%)]\tLoss: 0.341195\n",
      "Train Epoch: 0 [23040/48000 (48%)]\tLoss: 0.403260\n",
      "Train Epoch: 0 [23680/48000 (49%)]\tLoss: 0.140465\n",
      "Train Epoch: 0 [24320/48000 (51%)]\tLoss: 0.197052\n",
      "Train Epoch: 0 [24960/48000 (52%)]\tLoss: 0.316744\n",
      "Train Epoch: 0 [25600/48000 (53%)]\tLoss: 0.153719\n",
      "Train Epoch: 0 [26240/48000 (55%)]\tLoss: 0.360401\n",
      "Train Epoch: 0 [26880/48000 (56%)]\tLoss: 0.378522\n",
      "Train Epoch: 0 [27520/48000 (57%)]\tLoss: 0.296692\n",
      "Train Epoch: 0 [28160/48000 (59%)]\tLoss: 0.257025\n",
      "Train Epoch: 0 [28800/48000 (60%)]\tLoss: 0.242701\n",
      "Train Epoch: 0 [29440/48000 (61%)]\tLoss: 0.247066\n",
      "Train Epoch: 0 [30080/48000 (63%)]\tLoss: 0.208662\n",
      "Train Epoch: 0 [30720/48000 (64%)]\tLoss: 0.164627\n",
      "Train Epoch: 0 [31360/48000 (65%)]\tLoss: 0.137360\n",
      "Train Epoch: 0 [32000/48000 (67%)]\tLoss: 0.221532\n",
      "Train Epoch: 0 [32640/48000 (68%)]\tLoss: 0.122718\n",
      "Train Epoch: 0 [33280/48000 (69%)]\tLoss: 0.168505\n",
      "Train Epoch: 0 [33920/48000 (71%)]\tLoss: 0.172512\n",
      "Train Epoch: 0 [34560/48000 (72%)]\tLoss: 0.177517\n",
      "Train Epoch: 0 [35200/48000 (73%)]\tLoss: 0.374833\n",
      "Train Epoch: 0 [35840/48000 (75%)]\tLoss: 0.244854\n",
      "Train Epoch: 0 [36480/48000 (76%)]\tLoss: 0.262382\n",
      "Train Epoch: 0 [37120/48000 (77%)]\tLoss: 0.094044\n",
      "Train Epoch: 0 [37760/48000 (79%)]\tLoss: 0.444150\n",
      "Train Epoch: 0 [38400/48000 (80%)]\tLoss: 0.182655\n",
      "Train Epoch: 0 [39040/48000 (81%)]\tLoss: 0.492859\n",
      "Train Epoch: 0 [39680/48000 (83%)]\tLoss: 0.224654\n",
      "Train Epoch: 0 [40320/48000 (84%)]\tLoss: 0.187253\n",
      "Train Epoch: 0 [40960/48000 (85%)]\tLoss: 0.169076\n",
      "Train Epoch: 0 [41600/48000 (87%)]\tLoss: 0.128631\n",
      "Train Epoch: 0 [42240/48000 (88%)]\tLoss: 0.152113\n",
      "Train Epoch: 0 [42880/48000 (89%)]\tLoss: 0.292802\n",
      "Train Epoch: 0 [43520/48000 (91%)]\tLoss: 0.335730\n",
      "Train Epoch: 0 [44160/48000 (92%)]\tLoss: 0.237513\n",
      "Train Epoch: 0 [44800/48000 (93%)]\tLoss: 0.253340\n",
      "Train Epoch: 0 [45440/48000 (95%)]\tLoss: 0.205673\n",
      "Train Epoch: 0 [46080/48000 (96%)]\tLoss: 0.287576\n",
      "Train Epoch: 0 [46720/48000 (97%)]\tLoss: 0.438994\n",
      "Train Epoch: 0 [47360/48000 (99%)]\tLoss: 0.138560\n",
      "\n",
      "Test/validation set: Average loss: 0.0006, Accuracy: 11287/12000 (94%)\n",
      "\n",
      "Train Epoch: 1 [0/48000 (0%)]\tLoss: 0.136687\n",
      "Train Epoch: 1 [640/48000 (1%)]\tLoss: 0.148638\n",
      "Train Epoch: 1 [1280/48000 (3%)]\tLoss: 0.344422\n",
      "Train Epoch: 1 [1920/48000 (4%)]\tLoss: 0.174984\n",
      "Train Epoch: 1 [2560/48000 (5%)]\tLoss: 0.165870\n",
      "Train Epoch: 1 [3200/48000 (7%)]\tLoss: 0.124865\n",
      "Train Epoch: 1 [3840/48000 (8%)]\tLoss: 0.350896\n",
      "Train Epoch: 1 [4480/48000 (9%)]\tLoss: 0.095787\n",
      "Train Epoch: 1 [5120/48000 (11%)]\tLoss: 0.093572\n",
      "Train Epoch: 1 [5760/48000 (12%)]\tLoss: 0.078425\n",
      "Train Epoch: 1 [6400/48000 (13%)]\tLoss: 0.088912\n",
      "Train Epoch: 1 [7040/48000 (15%)]\tLoss: 0.115682\n",
      "Train Epoch: 1 [7680/48000 (16%)]\tLoss: 0.098531\n",
      "Train Epoch: 1 [8320/48000 (17%)]\tLoss: 0.286149\n",
      "Train Epoch: 1 [8960/48000 (19%)]\tLoss: 0.093941\n",
      "Train Epoch: 1 [9600/48000 (20%)]\tLoss: 0.260383\n",
      "Train Epoch: 1 [10240/48000 (21%)]\tLoss: 0.210784\n",
      "Train Epoch: 1 [10880/48000 (23%)]\tLoss: 0.271635\n",
      "Train Epoch: 1 [11520/48000 (24%)]\tLoss: 0.134776\n",
      "Train Epoch: 1 [12160/48000 (25%)]\tLoss: 0.116998\n",
      "Train Epoch: 1 [12800/48000 (27%)]\tLoss: 0.079019\n",
      "Train Epoch: 1 [13440/48000 (28%)]\tLoss: 0.126596\n",
      "Train Epoch: 1 [14080/48000 (29%)]\tLoss: 0.116784\n",
      "Train Epoch: 1 [14720/48000 (31%)]\tLoss: 0.159679\n",
      "Train Epoch: 1 [15360/48000 (32%)]\tLoss: 0.066805\n",
      "Train Epoch: 1 [16000/48000 (33%)]\tLoss: 0.225973\n",
      "Train Epoch: 1 [16640/48000 (35%)]\tLoss: 0.092248\n",
      "Train Epoch: 1 [17280/48000 (36%)]\tLoss: 0.139978\n",
      "Train Epoch: 1 [17920/48000 (37%)]\tLoss: 0.185325\n",
      "Train Epoch: 1 [18560/48000 (39%)]\tLoss: 0.132748\n",
      "Train Epoch: 1 [19200/48000 (40%)]\tLoss: 0.371061\n",
      "Train Epoch: 1 [19840/48000 (41%)]\tLoss: 0.262983\n",
      "Train Epoch: 1 [20480/48000 (43%)]\tLoss: 0.241270\n",
      "Train Epoch: 1 [21120/48000 (44%)]\tLoss: 0.105288\n",
      "Train Epoch: 1 [21760/48000 (45%)]\tLoss: 0.036118\n",
      "Train Epoch: 1 [22400/48000 (47%)]\tLoss: 0.086564\n",
      "Train Epoch: 1 [23040/48000 (48%)]\tLoss: 0.109286\n",
      "Train Epoch: 1 [23680/48000 (49%)]\tLoss: 0.101627\n",
      "Train Epoch: 1 [24320/48000 (51%)]\tLoss: 0.144682\n",
      "Train Epoch: 1 [24960/48000 (52%)]\tLoss: 0.194857\n",
      "Train Epoch: 1 [25600/48000 (53%)]\tLoss: 0.033359\n",
      "Train Epoch: 1 [26240/48000 (55%)]\tLoss: 0.319706\n",
      "Train Epoch: 1 [26880/48000 (56%)]\tLoss: 0.083905\n",
      "Train Epoch: 1 [27520/48000 (57%)]\tLoss: 0.066681\n",
      "Train Epoch: 1 [28160/48000 (59%)]\tLoss: 0.219735\n",
      "Train Epoch: 1 [28800/48000 (60%)]\tLoss: 0.190409\n",
      "Train Epoch: 1 [29440/48000 (61%)]\tLoss: 0.173086\n",
      "Train Epoch: 1 [30080/48000 (63%)]\tLoss: 0.246823\n",
      "Train Epoch: 1 [30720/48000 (64%)]\tLoss: 0.118034\n",
      "Train Epoch: 1 [31360/48000 (65%)]\tLoss: 0.290848\n",
      "Train Epoch: 1 [32000/48000 (67%)]\tLoss: 0.374604\n",
      "Train Epoch: 1 [32640/48000 (68%)]\tLoss: 0.172676\n",
      "Train Epoch: 1 [33280/48000 (69%)]\tLoss: 0.038442\n",
      "Train Epoch: 1 [33920/48000 (71%)]\tLoss: 0.227589\n",
      "Train Epoch: 1 [34560/48000 (72%)]\tLoss: 0.110604\n",
      "Train Epoch: 1 [35200/48000 (73%)]\tLoss: 0.178852\n",
      "Train Epoch: 1 [35840/48000 (75%)]\tLoss: 0.144118\n",
      "Train Epoch: 1 [36480/48000 (76%)]\tLoss: 0.080062\n",
      "Train Epoch: 1 [37120/48000 (77%)]\tLoss: 0.248485\n",
      "Train Epoch: 1 [37760/48000 (79%)]\tLoss: 0.083826\n",
      "Train Epoch: 1 [38400/48000 (80%)]\tLoss: 0.126555\n",
      "Train Epoch: 1 [39040/48000 (81%)]\tLoss: 0.072008\n",
      "Train Epoch: 1 [39680/48000 (83%)]\tLoss: 0.125667\n",
      "Train Epoch: 1 [40320/48000 (84%)]\tLoss: 0.062331\n",
      "Train Epoch: 1 [40960/48000 (85%)]\tLoss: 0.212333\n",
      "Train Epoch: 1 [41600/48000 (87%)]\tLoss: 0.255952\n",
      "Train Epoch: 1 [42240/48000 (88%)]\tLoss: 0.094569\n",
      "Train Epoch: 1 [42880/48000 (89%)]\tLoss: 0.229438\n",
      "Train Epoch: 1 [43520/48000 (91%)]\tLoss: 0.081203\n",
      "Train Epoch: 1 [44160/48000 (92%)]\tLoss: 0.156469\n",
      "Train Epoch: 1 [44800/48000 (93%)]\tLoss: 0.173034\n",
      "Train Epoch: 1 [45440/48000 (95%)]\tLoss: 0.052632\n",
      "Train Epoch: 1 [46080/48000 (96%)]\tLoss: 0.088564\n",
      "Train Epoch: 1 [46720/48000 (97%)]\tLoss: 0.071156\n",
      "Train Epoch: 1 [47360/48000 (99%)]\tLoss: 0.288047\n",
      "\n",
      "Test/validation set: Average loss: 0.0004, Accuracy: 11560/12000 (96%)\n",
      "\n"
     ]
    }
   ],
   "source": [
    "for i in range(num_epochs):\n",
    "    train(model, train_loader, loss_fn, i)\n",
    "    # Evaluate the model on the test set\n",
    "    test_model(model, val_loader, loss_fn)"
   ]
  },
  {
   "cell_type": "markdown",
   "metadata": {},
   "source": [
    "After learning we evaluate the model on the _test set_ and save the resulting structure."
   ]
  },
  {
   "cell_type": "code",
   "execution_count": null,
   "metadata": {},
   "outputs": [
    {
     "name": "stdout",
     "output_type": "stream",
     "text": [
      "\n",
      "Test/validation set: Average loss: 0.0019, Accuracy: 9664/10000 (97%)\n",
      "\n"
     ]
    }
   ],
   "source": [
    "# Evaluate the model on the test set\n",
    "test_model(model, test_loader, loss_fn)\n",
    "# Save the model\n",
    "save_model('conv.pt', model)"
   ]
  },
  {
   "cell_type": "code",
   "execution_count": null,
   "metadata": {
    "tags": []
   },
   "outputs": [
    {
     "name": "stdout",
     "output_type": "stream",
     "text": [
      "MNIST_CNN(\n",
      "  (conv1): Conv2d(1, 15, kernel_size=(5, 5), stride=(1, 1))\n",
      "  (fc): Linear(in_features=8640, out_features=10, bias=True)\n",
      ")\n"
     ]
    }
   ],
   "source": [
    "print(model)"
   ]
  },
  {
   "cell_type": "markdown",
   "metadata": {},
   "source": [
    "## Supplmentary exercises\n",
    "\n",
    "1. Familiarize yourself with the code above and consult the PyTorch documentation when needed.\n",
    "2. Experiment with different NN architectures (also varying the convolutional parameters: size, stride, padding, etc) and observe the effect wrt. the loss/accuracy on the training and validation dataset (training, validation). Consult the reference PyTorch documentation as needed. **IMPORTANT:** ignore the test set at this stage (i.e., comment out the relevant lines above) so that the results for the test set do not influence your model choice.\n",
    "3. In the model above we use a simple gradient descent learning scheme. Try other types of optimizers (see https://pytorch.org/docs/stable/optim.html) and analyze the effect.\n",
    "4. If you feel adventurous, try investigating some of the other datasets that come prepacakged with PyTorch (see https://pytorch.org/vision/0.8/datasets.html). For instnce, for FashionMNIST you only need to change the dataloader from datasets.MNIST to datasets.FashionMNIST."
   ]
  },
  {
   "cell_type": "code",
   "execution_count": null,
   "metadata": {},
   "outputs": [],
   "source": []
  }
 ],
 "metadata": {
  "kernelspec": {
   "display_name": ".venv",
   "language": "python",
   "name": "python3"
  },
  "language_info": {
   "codemirror_mode": {
    "name": "ipython",
    "version": 3
   },
   "file_extension": ".py",
   "mimetype": "text/x-python",
   "name": "python",
   "nbconvert_exporter": "python",
   "pygments_lexer": "ipython3",
   "version": "3.13.2"
  }
 },
 "nbformat": 4,
 "nbformat_minor": 4
}
